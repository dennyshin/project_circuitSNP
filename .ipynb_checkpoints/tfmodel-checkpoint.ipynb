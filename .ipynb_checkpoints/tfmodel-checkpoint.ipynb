{
 "cells": [
  {
   "cell_type": "markdown",
   "metadata": {},
   "source": [
    "# Creating Training: Take 2"
   ]
  },
  {
   "cell_type": "markdown",
   "metadata": {},
   "source": [
    "# libraries"
   ]
  },
  {
   "cell_type": "code",
   "execution_count": 2,
   "metadata": {},
   "outputs": [],
   "source": [
    "import numpy as np\n",
    "import os\n",
    "import tensorflow as tf"
   ]
  },
  {
   "cell_type": "markdown",
   "metadata": {},
   "source": [
    "# defining regions\n",
    "\n",
    "The narrowPeak file contains all open regions for the LCL tissue"
   ]
  },
  {
   "cell_type": "code",
   "execution_count": 3,
   "metadata": {},
   "outputs": [],
   "source": [
    "def import_regions(file_dir):\n",
    "    regions = {}\n",
    "    with open(file_dir) as f:\n",
    "        for line in f:\n",
    "            row = line.split()\n",
    "            \n",
    "            if row[0] not in regions:\n",
    "                regions[row[0]] = []\n",
    "            regions[row[0]].append([int(row[1]), int(row[2])])\n",
    "            \n",
    "    return regions"
   ]
  },
  {
   "cell_type": "markdown",
   "metadata": {},
   "source": [
    "# bringing in LCL and ALL files"
   ]
  },
  {
   "cell_type": "code",
   "execution_count": 4,
   "metadata": {},
   "outputs": [
    {
     "data": {
      "text/plain": [
       "dict_keys(['chr1', 'chr10', 'chr11', 'chr12', 'chr13', 'chr14', 'chr15', 'chr16', 'chr17', 'chr18', 'chr19', 'chr2', 'chr20', 'chr21', 'chr22', 'chr3', 'chr4', 'chr5', 'chr6', 'chr7', 'chr8', 'chr9', 'chrX'])"
      ]
     },
     "execution_count": 4,
     "metadata": {},
     "output_type": "execute_result"
    }
   ],
   "source": [
    "openLCL = import_regions(\"data/CENTIPEDEdata/wgEncodeAwgDnaseUwdukeGm12878UniPk.narrowPeak\")\n",
    "openLCL.keys()"
   ]
  },
  {
   "cell_type": "code",
   "execution_count": 5,
   "metadata": {},
   "outputs": [
    {
     "data": {
      "text/plain": [
       "dict_keys(['chr1', 'chr2', 'chr3', 'chr4', 'chr5', 'chr6', 'chr7', 'chr8', 'chr9', 'chr10', 'chr11', 'chr12', 'chr13', 'chr14', 'chr15', 'chr16', 'chr17', 'chr18', 'chr19', 'chr20', 'chr21', 'chr22', 'chrX', 'chrY'])"
      ]
     },
     "execution_count": 5,
     "metadata": {},
     "output_type": "execute_result"
    }
   ],
   "source": [
    "openALL = import_regions(\"data/CENTIPEDEdata/wgEncodeRegDnaseClusteredV3.bed\")\n",
    "openALL.keys()"
   ]
  },
  {
   "cell_type": "markdown",
   "metadata": {},
   "source": [
    "### how to manipulate dict"
   ]
  },
  {
   "cell_type": "code",
   "execution_count": 6,
   "metadata": {},
   "outputs": [
    {
     "data": {
      "text/plain": [
       "{'chr1': [[10, 20, 0], [30, 40, 1]],\n",
       " 'chr2': [[50, 60, 1], [70, 80, 0]],\n",
       " 'chr3': None,\n",
       " 'chr4': None,\n",
       " 'chr5': None,\n",
       " 'chr6': None,\n",
       " 'chr7': None,\n",
       " 'chr8': None,\n",
       " 'chr9': None,\n",
       " 'chr10': None,\n",
       " 'chr11': None,\n",
       " 'chr12': None,\n",
       " 'chr13': None,\n",
       " 'chr14': None,\n",
       " 'chr15': None,\n",
       " 'chr16': None,\n",
       " 'chr17': None,\n",
       " 'chr18': None,\n",
       " 'chr19': None,\n",
       " 'chr20': None,\n",
       " 'chr21': None,\n",
       " 'chr22': None}"
      ]
     },
     "execution_count": 6,
     "metadata": {},
     "output_type": "execute_result"
    }
   ],
   "source": [
    "chromosomes = list(openALL.keys())[:-2] #remove sex chromosomes\n",
    "output = dict.fromkeys(chromosomes)\n",
    "output['chr1'] = [[10,20,0], [30,40,1]]\n",
    "output['chr2'] = [[50,60,1], [70,80,0]]\n",
    "output"
   ]
  },
  {
   "cell_type": "markdown",
   "metadata": {},
   "source": [
    "## use try and except\n",
    "### I think this is pretty solid now"
   ]
  },
  {
   "cell_type": "code",
   "execution_count": 19,
   "metadata": {},
   "outputs": [],
   "source": [
    "def create_output(chromosomes, tissue, openALL):\n",
    "    output = dict.fromkeys(chromosomes)\n",
    "    \n",
    "    for chrm in chromosomes:\n",
    "        \n",
    "        i=0\n",
    "        regionlist = []\n",
    "        for region in tissue[chrm]:\n",
    "            open_region = [region[0], region[1], 1]\n",
    "\n",
    "            try:\n",
    "                # | ALL1 | ALL2 | LCL1 |   while no overlap\n",
    "                while openALL[chrm][i][1] < open_region[0]: # ALL_end is smaller than LCL_start\n",
    "                    # add in closed region\n",
    "                    # [start, end, closed/open]\n",
    "                    closed_region = [openALL[chrm][i][0], openALL[chrm][i][1], 0]\n",
    "                    regionlist.append(closed_region)\n",
    "                    i += 1\n",
    "            except:\n",
    "                # there are some LCL_region left\n",
    "                # | LCL1 ALL1 ALL2 | LCL2 | LCL3 | end\n",
    "                regionlist.append(open_region)\n",
    "            \n",
    "            # now, we must be at an overlap or past it\n",
    "        \n",
    "            try:\n",
    "                # | ALL1 | LCL1 | ALL2 |   ALL_region is past LCL. no overlap\n",
    "                if openALL[chrm][i][0] > open_region[1]: # ALL_start is bigger than LCL_end\n",
    "                    # insert open region\n",
    "                    regionlist.append(open_region)\n",
    "        \n",
    "                # | ALL1 LCL1 | ALL2    overlap exists\n",
    "                else:\n",
    "                    # insert open region\n",
    "                    regionlist.append(open_region)\n",
    "            \n",
    "                    try:\n",
    "                        # | ALL1 LCL1 ALL2 ALL3 | ALL4 |   skip until overlap ends\n",
    "                        while openALL[chrm][i][0] <= open_region[1]:\n",
    "                            i += 1\n",
    "                    except:\n",
    "                        # this means ALL has run out during an overlap\n",
    "                        # | LCL1 ALL1 ALL2 | end\n",
    "                        pass\n",
    "            except:\n",
    "                pass\n",
    "                \n",
    "        # tail end\n",
    "        # there may still be some ALL_region remaining\n",
    "        # | LCL1 | ALL1 | ALL2 | ALL3 | end\n",
    "        for region in openALL[chrm][i:]:\n",
    "            closed_region = [region[0], region[1], 0]\n",
    "            regionlist.append(closed_region)\n",
    "        \n",
    "        output[chrm] = regionlist\n",
    "        \n",
    "    return output"
   ]
  },
  {
   "cell_type": "code",
   "execution_count": 20,
   "metadata": {},
   "outputs": [],
   "source": [
    "chromosomes = list(openALL.keys())[:-2] #remove sex chromosomes\n",
    "output = create_output(chromosomes, openLCL, openALL)"
   ]
  },
  {
   "cell_type": "code",
   "execution_count": 23,
   "metadata": {},
   "outputs": [
    {
     "name": "stdout",
     "output_type": "stream",
     "text": [
      "chr1 0.10079543970612449\n",
      "chr2 0.08806865522412931\n",
      "chr3 0.08906982077913568\n",
      "chr4 0.07654456587401834\n",
      "chr5 0.08895746171175435\n",
      "chr6 0.1042573778422835\n",
      "chr7 0.08746071312452584\n",
      "chr8 0.08146672237040846\n",
      "chr9 0.09575519497579223\n",
      "chr10 0.0883768733023607\n",
      "chr11 0.09989918819971348\n",
      "chr12 0.10230939226519337\n",
      "chr13 0.07104799216454456\n",
      "chr14 0.10053374883967643\n",
      "chr15 0.10035502578354673\n",
      "chr16 0.11478314459594792\n",
      "chr17 0.13051407877817725\n",
      "chr18 0.07417302280050578\n",
      "chr19 0.16821369445116166\n",
      "chr20 0.09642731432594157\n",
      "chr21 0.08853446171372772\n",
      "chr22 0.11846296106031029\n"
     ]
    }
   ],
   "source": [
    "# very very sweeping overlook that my code is right\n",
    "# this is more here for curiosity\n",
    "for chrm in chromosomes:\n",
    "    opnum = 0\n",
    "    for row in output[chrm]:\n",
    "        opnum += row[2]\n",
    "    #print(chrm, opnum == len(openLCL[chrm]))\n",
    "    print(chrm, opnum/len(output[chrm]))"
   ]
  },
  {
   "cell_type": "code",
   "execution_count": 24,
   "metadata": {},
   "outputs": [
    {
     "name": "stdout",
     "output_type": "stream",
     "text": [
      "True\n",
      "True\n",
      "True\n",
      "True\n",
      "True\n",
      "True\n",
      "True\n",
      "True\n",
      "True\n",
      "True\n",
      "True\n",
      "True\n",
      "True\n",
      "True\n",
      "True\n",
      "True\n",
      "True\n",
      "True\n",
      "True\n",
      "True\n",
      "True\n",
      "True\n"
     ]
    }
   ],
   "source": [
    "# there should be no repeats\n",
    "for chrm in chromosomes:\n",
    "    myset = set(tuple(x) for x in output[chrm])\n",
    "    print(len(output[chrm]) == len(myset))"
   ]
  },
  {
   "cell_type": "markdown",
   "metadata": {},
   "source": [
    "## make Ytrain"
   ]
  },
  {
   "cell_type": "code",
   "execution_count": 35,
   "metadata": {},
   "outputs": [
    {
     "data": {
      "text/plain": [
       "True"
      ]
     },
     "execution_count": 35,
     "metadata": {},
     "output_type": "execute_result"
    }
   ],
   "source": [
    "Ytrain = []\n",
    "for chrm in chromosomes:\n",
    "    for row in output[chrm]:\n",
    "        Ytrain.append(row[2])\n",
    "Ytrain = np.array(Ytrain)\n",
    "\n",
    "full_len = sum([len(output[chrm]) for chrm in chromosomes])\n",
    "full_len == len(Ytrain)"
   ]
  },
  {
   "cell_type": "markdown",
   "metadata": {},
   "source": [
    "# bring in motif files"
   ]
  },
  {
   "cell_type": "code",
   "execution_count": 61,
   "metadata": {},
   "outputs": [],
   "source": [
    "def import_motifs(path, regions):\n",
    "    training_input = []\n",
    "    for motiffile in os.listdir(path):\n",
    "        motif_foot = {}\n",
    "        with open(os.path.join(path, motiffile)) as f:\n",
    "            for line in f:\n",
    "                row = line.split()\n",
    "                \n",
    "                if row[0] not in motif_foot:\n",
    "                    motif_foot[row[0]] = []\n",
    "                motif_foot[row[0]].append([int(row[1]), int(row[2])])\n",
    "        \n",
    "        current_motif = { chrm: motif_foot[chrm] for chrm in chromosomes } # filter out unwanted chromosomes\n",
    "        motif_col = []\n",
    "        for chrm in chromosomes:\n",
    "            i = 0\n",
    "            for region in regions[chrm]:\n",
    "                if i >= len(current_motif[chrm]):\n",
    "                    motif_col.append(0)\n",
    "                else:\n",
    "                    motif_reg = current_motif[chrm][i]\n",
    "                    if region[1] < motif_reg[0]: # no overlap\n",
    "                        motif_col.append(0)\n",
    "                        # move to next region\n",
    "                    else:\n",
    "                        if region[0] > motif_reg[1]: # no overlap\n",
    "                            motif_col.append(0)\n",
    "                            i += 1 # move motif[i] forward\n",
    "                        else: # must be overlap\n",
    "                            motif_col.append(1)\n",
    "                            # don't move forward as next region might also overlap\n",
    "                    \n",
    "            # if motif[i] is past the last region in regionlist then that's okay\n",
    "        \n",
    "        training_input.append(motif_col)\n",
    "    \n",
    "    return(training_input)\n",
    "                "
   ]
  },
  {
   "cell_type": "code",
   "execution_count": 62,
   "metadata": {},
   "outputs": [],
   "source": [
    "path = \"data/CENTIPEDEdata/motif.combo\"\n",
    "Xtrain = np.transpose(import_motifs(path, output))"
   ]
  },
  {
   "cell_type": "code",
   "execution_count": 65,
   "metadata": {},
   "outputs": [
    {
     "data": {
      "text/plain": [
       "(1851152, 5)"
      ]
     },
     "execution_count": 65,
     "metadata": {},
     "output_type": "execute_result"
    }
   ],
   "source": [
    "Xtrain.shape"
   ]
  },
  {
   "cell_type": "markdown",
   "metadata": {},
   "source": [
    "# A little bit of using tensorflow and keras"
   ]
  },
  {
   "cell_type": "code",
   "execution_count": 74,
   "metadata": {
    "scrolled": true
   },
   "outputs": [
    {
     "name": "stdout",
     "output_type": "stream",
     "text": [
      "Train on 1666036 samples, validate on 185116 samples\n",
      "Epoch 1/3\n",
      "1666036/1666036 [==============================] - 67s 40us/sample - loss: 0.3132 - val_loss: 0.3683\n",
      "Epoch 2/3\n",
      "1666036/1666036 [==============================] - 67s 40us/sample - loss: 0.3126 - val_loss: 0.3655\n",
      "Epoch 3/3\n",
      "1666036/1666036 [==============================] - 65s 39us/sample - loss: 0.3126 - val_loss: 0.3648\n",
      "_________________________________________________________________\n",
      "Layer (type)                 Output Shape              Param #   \n",
      "=================================================================\n",
      "dense_3 (Dense)              multiple                  192       \n",
      "_________________________________________________________________\n",
      "dense_4 (Dense)              multiple                  1056      \n",
      "_________________________________________________________________\n",
      "dense_5 (Dense)              multiple                  66        \n",
      "=================================================================\n",
      "Total params: 1,314\n",
      "Trainable params: 1,314\n",
      "Non-trainable params: 0\n",
      "_________________________________________________________________\n"
     ]
    }
   ],
   "source": [
    "model = tf.keras.models.Sequential([\n",
    "    tf.keras.layers.Dense(32, activation=tf.nn.relu),\n",
    "    tf.keras.layers.Dense(32, activation=tf.nn.relu),\n",
    "    tf.keras.layers.Dense(2, activation=tf.nn.softmax)\n",
    "])\n",
    "\n",
    "model.compile(optimizer='adam',\n",
    "              loss=tf.keras.losses.sparse_categorical_crossentropy,\n",
    "              metris=['accuracy'])\n",
    "model.fit(Xtrain, Ytrain, batch_size = 32, epochs=10, validation_split = 0.1)\n",
    "\n",
    "model.summary()"
   ]
  }
 ],
 "metadata": {
  "kernelspec": {
   "display_name": "Python 3",
   "language": "python",
   "name": "python3"
  },
  "language_info": {
   "codemirror_mode": {
    "name": "ipython",
    "version": 3
   },
   "file_extension": ".py",
   "mimetype": "text/x-python",
   "name": "python",
   "nbconvert_exporter": "python",
   "pygments_lexer": "ipython3",
   "version": "3.7.3"
  }
 },
 "nbformat": 4,
 "nbformat_minor": 2
}
